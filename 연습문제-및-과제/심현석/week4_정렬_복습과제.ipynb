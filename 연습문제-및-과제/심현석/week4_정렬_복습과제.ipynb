{
 "cells": [
  {
   "cell_type": "markdown",
   "id": "4218f0a0-2502-41df-aad7-d19dad836af7",
   "metadata": {},
   "source": [
    "## 2751"
   ]
  },
  {
   "cell_type": "code",
   "execution_count": null,
   "id": "c66c1fcf-ea72-4782-9586-f3b669b2f853",
   "metadata": {},
   "outputs": [],
   "source": [
    "import sys\n",
    "\n",
    "array = []\n",
    "N = int(sys.stdin.readline().rstrip())\n",
    "for i in range(N):\n",
    "    array.append(int(sys.stdin.readline().rstrip()))\n",
    "\n",
    "array.sort()\n",
    "for i in range(N):\n",
    "    print(array[i])"
   ]
  },
  {
   "cell_type": "markdown",
   "id": "334fe962-f5c2-4489-8758-aa4f27d9a038",
   "metadata": {},
   "source": [
    "## 1427"
   ]
  },
  {
   "cell_type": "code",
   "execution_count": null,
   "id": "3b55b1fa-2e0a-47ea-b90b-3f71f93c464a",
   "metadata": {},
   "outputs": [],
   "source": [
    "import sys\n",
    "\n",
    "num = sys.stdin.readline().rstrip()\n",
    "array = []\n",
    "for i in num:\n",
    "    array.append(int(i))\n",
    "\n",
    "array.sort(reverse=True)\n",
    "for i in array:\n",
    "    print(i, end='')"
   ]
  },
  {
   "cell_type": "markdown",
   "id": "f82612f4-bd03-4415-a351-fbf6db4a25be",
   "metadata": {},
   "source": [
    "## 1181"
   ]
  },
  {
   "cell_type": "code",
   "execution_count": null,
   "id": "12cf9658-559b-47c5-84b6-8cf9cb3d6d74",
   "metadata": {},
   "outputs": [],
   "source": [
    "# 풀이1\n",
    "import sys\n",
    "\n",
    "N = int(sys.stdin.readline().rstrip())\n",
    "array = []\n",
    "for i in range(N):\n",
    "    array.append(sys.stdin.readline().rstrip())\n",
    "\n",
    "array.sort()\n",
    "array.sort(key=len)\n",
    "print(array[0])\n",
    "for i in range(1,N):\n",
    "    if array[i] != array[i-1]:\n",
    "        print(array[i])\n",
    "\n",
    "# 풀이2\n",
    "\n",
    "import sys\n",
    "\n",
    "N = int(sys.stdin.readline().rstrip())\n",
    "array = []\n",
    "for i in range(N):\n",
    "    array.append(sys.stdin.readline().rstrip())\n",
    "\n",
    "array = list(set(array))  # 중복 원소 제거\n",
    "array.sort()\n",
    "array.sort(key=len)\n",
    "\n",
    "for i in array:\n",
    "    print(i)"
   ]
  }
 ],
 "metadata": {
  "kernelspec": {
   "display_name": "Python 3 (ipykernel)",
   "language": "python",
   "name": "python3"
  },
  "language_info": {
   "codemirror_mode": {
    "name": "ipython",
    "version": 3
   },
   "file_extension": ".py",
   "mimetype": "text/x-python",
   "name": "python",
   "nbconvert_exporter": "python",
   "pygments_lexer": "ipython3",
   "version": "3.10.11"
  }
 },
 "nbformat": 4,
 "nbformat_minor": 5
}
