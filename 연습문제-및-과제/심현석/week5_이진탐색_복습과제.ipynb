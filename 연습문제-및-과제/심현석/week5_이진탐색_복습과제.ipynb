{
 "cells": [
  {
   "cell_type": "markdown",
   "id": "2bdc8bd4-1345-4e99-a2f9-4aaafeb2ef57",
   "metadata": {},
   "source": [
    "### #1.\n",
    "(p.367) 정렬된 배열에서 특정 수의 개수 구하기  "
   ]
  },
  {
   "cell_type": "code",
   "execution_count": null,
   "id": "08f71c51-1ff6-4219-80e3-3cb33720c2de",
   "metadata": {},
   "outputs": [],
   "source": [
    "from bisect import bisect_left, bisect_right\n",
    "\n",
    "N,x = map(int, input().split(' '))\n",
    "array = list(map(int, input().split(' ')))\n",
    "\n",
    "right = bisect.bisect_right(array, x)  # 배열에서 x가 마지막으로 나오는 위치의 다음 인덱스\n",
    "left = bisect.bisect_left(array, x)    # 배열에서 x가 처음 나오는 위치의 인덱스\n",
    "\n",
    "if right - left > 0:\n",
    "    print(right - left)\n",
    "else:\n",
    "    print(-1)"
   ]
  },
  {
   "cell_type": "markdown",
   "id": "46129d22-d4a2-4750-90bc-84cec854de53",
   "metadata": {},
   "source": [
    "### #2.\n",
    "(p.368) 고정점 찾기"
   ]
  },
  {
   "cell_type": "code",
   "execution_count": null,
   "id": "d7ef448f-4e3d-48a8-90cc-9215bc121564",
   "metadata": {},
   "outputs": [],
   "source": [
    "def binary_search(array, left, right):\n",
    "    # 고정점을 찾지 못할 경우 반복문 탈출\n",
    "    if left > right:\n",
    "        return -1\n",
    "\n",
    "    # 매 재귀함수 실행 시 mid는 계속 변함\n",
    "    mid = (left+right) // 2\n",
    "    if array[mid] == mid:\n",
    "        return mid\n",
    "    elif array[mid] > mid:\n",
    "        return binary_search(array, left, mid-1)\n",
    "    else:\n",
    "        return binary_search(array, mid+1, right)\n",
    "\n",
    "N = int(input())\n",
    "array = list(map(int, input().split(' ')))\n",
    "\n",
    "binary_search(array, 0, N-1)"
   ]
  },
  {
   "cell_type": "markdown",
   "id": "c810f8e4-fab4-4715-97e3-33d1ac90d362",
   "metadata": {},
   "source": [
    "### 3.\n",
    "(p.369) 공유기 설치"
   ]
  },
  {
   "cell_type": "code",
   "execution_count": 10,
   "id": "0c66c33b-073e-4ed8-aa1d-dccd61acfd46",
   "metadata": {},
   "outputs": [
    {
     "name": "stdin",
     "output_type": "stream",
     "text": [
      " 5 3\n",
      " 1\n",
      " 2\n",
      " 8\n",
      " 4\n",
      " 9\n"
     ]
    },
    {
     "data": {
      "text/plain": [
       "3"
      ]
     },
     "execution_count": 10,
     "metadata": {},
     "output_type": "execute_result"
    }
   ],
   "source": [
    "def binary_search(array, N, C, left, right):\n",
    "    answer = 0\n",
    "    while left <= right:\n",
    "        mid = (left+right) // 2  # 집과 집 사이의 거리\n",
    "        start = 0\n",
    "        sum = 1              # 1번 집에 공유기 설치\n",
    "        for i in range(N):\n",
    "            # 1번 집부터 공유기를 차례로 설치하며, mid 이상 거리가 벌어질 때마다 공유기 설치\n",
    "            if array[i] - array[start] >= mid:\n",
    "                start = i    # 1번 집으로부터 mid 이상 차이나는 집\n",
    "                sum += 1     # 공유기 설치\n",
    "        \n",
    "        if sum == C:\n",
    "            left = mid + 1   # 집 사이의 거리의 최댓값을 구하기 위해 반복\n",
    "            answer = mid     # 결과 저장\n",
    "        elif sum > C:\n",
    "            left = mid + 1   # 공유기를 C개보다 많이 설치했으므로 거리(mid) 늘리기\n",
    "        else:\n",
    "            right = mid - 1  # 공유기를 C개보다 적게 설치했으므로 거리(mid) 줄이기\n",
    "\n",
    "    return answer\n",
    "\n",
    "N,C = map(int, input().split(' '))\n",
    "house = []\n",
    "for i in range(N):\n",
    "    house.append(int(input()))\n",
    "\n",
    "house.sort()\n",
    "binary_search(house, N, C, 1, N-1)"
   ]
  }
 ],
 "metadata": {
  "kernelspec": {
   "display_name": "Python 3 (ipykernel)",
   "language": "python",
   "name": "python3"
  },
  "language_info": {
   "codemirror_mode": {
    "name": "ipython",
    "version": 3
   },
   "file_extension": ".py",
   "mimetype": "text/x-python",
   "name": "python",
   "nbconvert_exporter": "python",
   "pygments_lexer": "ipython3",
   "version": "3.10.11"
  }
 },
 "nbformat": 4,
 "nbformat_minor": 5
}
