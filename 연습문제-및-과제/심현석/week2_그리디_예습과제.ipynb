{
 "cells": [
  {
   "cell_type": "markdown",
   "id": "84efa4ae-97e5-476f-909d-d25eb2fea720",
   "metadata": {},
   "source": [
    "## Week 2. 그리디 알고리즘\n",
    "  \n",
    "### 거스름돈 문제 (p.87)"
   ]
  },
  {
   "cell_type": "code",
   "execution_count": 1,
   "id": "940afeea-1af2-4425-a8e0-e82dcf48f498",
   "metadata": {},
   "outputs": [
    {
     "name": "stdin",
     "output_type": "stream",
     "text": [
      " 1260\n"
     ]
    },
    {
     "name": "stdout",
     "output_type": "stream",
     "text": [
      "6\n"
     ]
    }
   ],
   "source": [
    "n = int(input())    # 입력받은 돈 \n",
    "count = 0           # 동전 개수\n",
    "\n",
    "# 큰 단위의 화폐부터 차례대로 확인\n",
    "coin_types = [500, 100, 50, 10]\n",
    "for coin in coin_types:\n",
    "    count += n // coin  # 현재 금액에서 거슬러줄 수 있는 동전의 개수\n",
    "    n %= coin           # 동전을 거슬러 준 후 남은 금액\n",
    "\n",
    "print(count)    # 동전 개수 출력"
   ]
  },
  {
   "cell_type": "markdown",
   "id": "a415140b-2617-497c-8f6b-2f3c13d68498",
   "metadata": {},
   "source": [
    "### 실전 문제 3 (p.99)"
   ]
  },
  {
   "cell_type": "code",
   "execution_count": 2,
   "id": "e135dcaf-484a-44e1-8fbd-85e7ff2f73dd",
   "metadata": {},
   "outputs": [
    {
     "name": "stdin",
     "output_type": "stream",
     "text": [
      " 1260 6\n"
     ]
    },
    {
     "name": "stdout",
     "output_type": "stream",
     "text": [
      "12\n"
     ]
    }
   ],
   "source": [
    "# 나의 풀이\n",
    "N,K = map(int,input().split())     # N, K를 공백으로 구분하여 입력받기\n",
    "count = 0                          # 연산 횟수\n",
    "\n",
    "while N >= K:           # 나눗셈 연산 => 값의 크기를 가장 빠르게 줄이는 목적 => N이 K 이상이어야 의미가 있음\n",
    "    if N % K != 0:      # 나누어 떨어지지 않을 경우 1씩 빼주기\n",
    "        N -= 1\n",
    "    else:               # 나누어 떨어질 경우 나눗셈 연산 \n",
    "        N //= K\n",
    "    count += 1          # 연산 횟수 업데이트\n",
    "\n",
    "while N > 1:            # N이 1이 될 때까지 반복하여 1을 빼주기\n",
    "    N -= 1\n",
    "    count += 1          # 연산 횟수 업데이트\n",
    "\n",
    "print(count)            # 연산 횟수 출력"
   ]
  },
  {
   "cell_type": "code",
   "execution_count": 3,
   "id": "a8b73ae7-95e2-4e6a-9e56-23dfd6686937",
   "metadata": {},
   "outputs": [
    {
     "name": "stdin",
     "output_type": "stream",
     "text": [
      " 1260 6\n"
     ]
    },
    {
     "name": "stdout",
     "output_type": "stream",
     "text": [
      "12\n"
     ]
    }
   ],
   "source": [
    "# 교재의 답안\n",
    "n, k = map(int, input().split())    # N, K를 공백으로 구분하여 입력받기\n",
    "result = 0                          # 연산 횟수\n",
    "while True:\n",
    "    # (N == K로 나누어떨어지는 수)가 될 때까지 1씩 빼기\n",
    "    target = (n // k) * k    # 몫×(나누어준 수)\n",
    "    result += (n- target)    # N을 K로 나누었을 때 나머지를 계산하여 result에 한번에 업데이트 (즉, 1을 일일이 빼줄 필요가 없음)\n",
    "    n = target               # N을 K로 나누었을 때 나머지\n",
    "\n",
    "    # N이 K보다 작을 때(더 이상 나눌 수 없을 때) 반복문 탈출\n",
    "    if n < k:\n",
    "        break\n",
    "\n",
    "    # K로 나눈 나머지 계산\n",
    "    result += 1              # 나눗셈 연산을 수행하므로 result에 연산 횟수 1회 업데이트\n",
    "    n //= k\n",
    "\n",
    "# 마지막으로 남은 수에 대하여 1씩 빼기\n",
    "result += (n - 1)            # N이 1이 될 때까지 \"1씩 빼는 연산\"을 해야하는 횟수를 result에 한번에 업데이트\n",
    "print(result)                # 연산 횟수 출력"
   ]
  }
 ],
 "metadata": {
  "kernelspec": {
   "display_name": "Python 3 (ipykernel)",
   "language": "python",
   "name": "python3"
  },
  "language_info": {
   "codemirror_mode": {
    "name": "ipython",
    "version": 3
   },
   "file_extension": ".py",
   "mimetype": "text/x-python",
   "name": "python",
   "nbconvert_exporter": "python",
   "pygments_lexer": "ipython3",
   "version": "3.10.11"
  }
 },
 "nbformat": 4,
 "nbformat_minor": 5
}
