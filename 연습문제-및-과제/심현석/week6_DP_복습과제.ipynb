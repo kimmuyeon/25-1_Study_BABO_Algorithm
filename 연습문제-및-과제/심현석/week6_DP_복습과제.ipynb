{
 "cells": [
  {
   "cell_type": "markdown",
   "id": "85cb6107-a845-4103-808d-4a6fb6da43d8",
   "metadata": {},
   "source": [
    "## 2579"
   ]
  },
  {
   "cell_type": "code",
   "execution_count": null,
   "id": "ce6b82ae-fa2c-4bee-89b4-495af64573ac",
   "metadata": {},
   "outputs": [],
   "source": [
    "import sys\n",
    "\n",
    "N = int(sys.stdin.readline().rstrip())\n",
    "stair = [0]       # 입력값을 저장하기 위한 빈 리스트\n",
    "for i in range(N):\n",
    "    stair.append(int(sys.stdin.readline().rstrip()))\n",
    "\n",
    "dp = [0] * (N+1)  # 계단 단수에 따른 최댓값을 저장하는 리스트\n",
    "for i in range(1,N+1):\n",
    "    if i == 1:\n",
    "        dp[1] = stair[1]\n",
    "    elif i == 2:\n",
    "        dp[2] = stair[1] + stair[2]\n",
    "    else:\n",
    "        # 만약 0번째 단을 정의하지 않았다면 코드가 살짝 더 복잡해짐\n",
    "        dp[i] = max(dp[i-3]+stair[i-1]+stair[i], dp[i-2]+stair[i])\n",
    "\n",
    "print(dp[N])"
   ]
  },
  {
   "cell_type": "markdown",
   "id": "36fd80a2-4b03-466c-b1f3-149361ff44e9",
   "metadata": {},
   "source": [
    "## 11726"
   ]
  },
  {
   "cell_type": "code",
   "execution_count": null,
   "id": "ae53ae77-b964-40c7-a879-138ec9806246",
   "metadata": {},
   "outputs": [],
   "source": [
    "import sys\n",
    "\n",
    "N = int(sys.stdin.readline().rstrip())\n",
    "dp = [0] * (N+1)   # 0부터 시작, 2xn일 때 직사각형 조합의 가짓수를 차례로 입력\n",
    "\n",
    "for i in range(1,N+1):\n",
    "    if i <= 2:\n",
    "        dp[i] = i\n",
    "    else:\n",
    "        # 마지막에 블록이 하나 남았을 때와 두 개 남았을 때로 경우의 수를 나눌 수 있음\n",
    "        dp[i] = dp[i-2] + dp[i-1]   # 피보나치 수열\n",
    "        \n",
    "print(dp[N] % 10007)"
   ]
  },
  {
   "cell_type": "markdown",
   "id": "eae8c483-27f7-45b2-8b04-d10bb7988545",
   "metadata": {},
   "source": [
    "## 9095"
   ]
  },
  {
   "cell_type": "code",
   "execution_count": null,
   "id": "693caf42-e5fc-4d3a-b705-6c0a389a3386",
   "metadata": {},
   "outputs": [],
   "source": [
    "import sys\n",
    "\n",
    "T = int(sys.stdin.readline().rstrip())\n",
    "for i in range(T):\n",
    "    N = int(sys.stdin.readline().rstrip())\n",
    "    dp = [0] * (N+1)\n",
    "    \n",
    "    for i in range(1,N+1):\n",
    "        if i == 1:\n",
    "            dp[1] = 1\n",
    "        elif i == 2:\n",
    "            dp[2] = 2\n",
    "        elif i == 3:\n",
    "            dp[3] = 4\n",
    "        else:\n",
    "            # i-3을 만드는 연산 조합에 모두 3을 더하고, i-2를 만드는 조합에 모두 2를 더하고, i-1을 만드는 조합에 모두 1 더하기\n",
    "            dp[i] = dp[i-3] + dp[i-2] + dp[i-1]\n",
    "            \n",
    "    print(dp[i])"
   ]
  }
 ],
 "metadata": {
  "kernelspec": {
   "display_name": "Python 3 (ipykernel)",
   "language": "python",
   "name": "python3"
  },
  "language_info": {
   "codemirror_mode": {
    "name": "ipython",
    "version": 3
   },
   "file_extension": ".py",
   "mimetype": "text/x-python",
   "name": "python",
   "nbconvert_exporter": "python",
   "pygments_lexer": "ipython3",
   "version": "3.10.11"
  }
 },
 "nbformat": 4,
 "nbformat_minor": 5
}
