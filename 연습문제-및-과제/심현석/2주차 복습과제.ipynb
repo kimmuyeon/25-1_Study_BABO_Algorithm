{
 "cells": [
  {
   "cell_type": "markdown",
   "id": "6239a6c7-e1a8-4c5f-bc32-8fac70db894f",
   "metadata": {},
   "source": [
    "## 프로그래머스 / 주식 가격"
   ]
  },
  {
   "cell_type": "code",
   "execution_count": 1,
   "id": "d541ce34-3f91-487c-89c4-1d9c33e634f2",
   "metadata": {},
   "outputs": [],
   "source": [
    "def solution(prices):\n",
    "    answer = []     # 답을 저장할 리스트\n",
    "    \n",
    "    for i in range(len(prices)):         # input의 길이만큼 반복\n",
    "        k = 0                            # 초기값 0\n",
    "        # prices의 원소를 하나씩 고정하고, 다음 원소부터 차례로 대소 비교\n",
    "        while i+k+1 < len(prices):       # 마지막 원소이거나, 끝까지 가격이 떨어지지 않을 경우 stop\n",
    "            k += 1                       # 1초가 흘렀으므로 초기값+1\n",
    "            if prices[i] > prices[i+k]:  # 1초 후 가격이 떨어졌다면 stop\n",
    "                break\n",
    "        answer.append(k)                 # 가격이 떨어지지 않은 기간 k를 answer에 추가\n",
    "    \n",
    "    return answer"
   ]
  }
 ],
 "metadata": {
  "kernelspec": {
   "display_name": "Python 3 (ipykernel)",
   "language": "python",
   "name": "python3"
  },
  "language_info": {
   "codemirror_mode": {
    "name": "ipython",
    "version": 3
   },
   "file_extension": ".py",
   "mimetype": "text/x-python",
   "name": "python",
   "nbconvert_exporter": "python",
   "pygments_lexer": "ipython3",
   "version": "3.10.11"
  }
 },
 "nbformat": 4,
 "nbformat_minor": 5
}
